{
  "nbformat": 4,
  "nbformat_minor": 0,
  "metadata": {
    "colab": {
      "provenance": [],
      "authorship_tag": "ABX9TyOwlWYWDePHq9aNXejqpJMe",
      "include_colab_link": true
    },
    "kernelspec": {
      "name": "python3",
      "display_name": "Python 3"
    },
    "language_info": {
      "name": "python"
    }
  },
  "cells": [
    {
      "cell_type": "markdown",
      "metadata": {
        "id": "view-in-github",
        "colab_type": "text"
      },
      "source": [
        "<a href=\"https://colab.research.google.com/github/JoshOlu/data602/blob/main/week2.ipynb\" target=\"_parent\"><img src=\"https://colab.research.google.com/assets/colab-badge.svg\" alt=\"Open In Colab\"/></a>"
      ]
    },
    {
      "cell_type": "code",
      "execution_count": 2,
      "metadata": {
        "colab": {
          "base_uri": "https://localhost:8080/"
        },
        "id": "FxwMbOG719m2",
        "outputId": "3d2bdd88-b9ea-4488-c684-1eaddf876f64"
      },
      "outputs": [
        {
          "output_type": "stream",
          "name": "stdout",
          "text": [
            "[[-0.38288859 -1.44154377 -1.73979072]\n",
            " [ 0.0328854  -1.21598064 -1.44056661]\n",
            " [-1.43142503  0.52202227  0.18620854]\n",
            " ...\n",
            " [-0.18534987 -1.20334234 -1.047185  ]\n",
            " [-1.25281095  0.10106855 -0.78549723]\n",
            " [-1.35319646  1.44452484  0.9165604 ]]\n",
            "[2 2 0 ... 2 1 0]\n",
            "Samples per class: [(0, 6961), (1, 2006), (2, 808), (3, 225)]\n"
          ]
        }
      ],
      "source": [
        "from collections import Counter\n",
        "from sklearn.datasets import make_classification\n",
        "X, y = make_classification(n_samples = 10000, n_features = 3, n_informative = 3,\n",
        "                           n_redundant = 0, n_repeated = 0, n_classes = 4,\n",
        "                           n_clusters_per_class = 1,\n",
        "                           weights = [0.70, 0.20, 0.08, 0.02],\n",
        "                           class_sep = 0.8, random_state = 0)\n",
        "print(X)\n",
        "print(y)\n",
        "print(\"Samples per class:\", sorted(Counter(y).items()))"
      ]
    },
    {
      "cell_type": "code",
      "source": [
        "from imblearn.over_sampling import RandomOverSampler\n",
        "ros = RandomOverSampler(random_state = 0)\n",
        "X_resampled, y_resampled = ros.fit_resample(X, y)\n",
        "print(X_resampled)\n",
        "print(y_resampled)\n",
        "print(\"Samples per class:\", sorted(Counter(y_resampled).items()))"
      ],
      "metadata": {
        "colab": {
          "base_uri": "https://localhost:8080/"
        },
        "id": "pXFAskf-2IGR",
        "outputId": "b9ea39f1-5520-422a-adfc-5124c2816385"
      },
      "execution_count": 4,
      "outputs": [
        {
          "output_type": "stream",
          "name": "stdout",
          "text": [
            "[[-0.38288859 -1.44154377 -1.73979072]\n",
            " [ 0.0328854  -1.21598064 -1.44056661]\n",
            " [-1.43142503  0.52202227  0.18620854]\n",
            " ...\n",
            " [ 0.55142394  1.58162234  1.04352448]\n",
            " [ 0.85769552  0.07254583  0.30580602]\n",
            " [-1.26840555  0.17892664  0.61871506]]\n",
            "[2 2 0 ... 3 3 3]\n",
            "Samples per class: [(0, 6961), (1, 6961), (2, 6961), (3, 6961)]\n"
          ]
        }
      ]
    }
  ]
}