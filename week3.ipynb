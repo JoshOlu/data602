{
  "cells": [
    {
      "cell_type": "markdown",
      "metadata": {
        "id": "view-in-github",
        "colab_type": "text"
      },
      "source": [
        "<a href=\"https://colab.research.google.com/github/JoshOlu/data602/blob/main/week3.ipynb\" target=\"_parent\"><img src=\"https://colab.research.google.com/assets/colab-badge.svg\" alt=\"Open In Colab\"/></a>"
      ]
    },
    {
      "cell_type": "markdown",
      "metadata": {
        "id": "Sz89eTxcRmBP"
      },
      "source": [
        "3a\n",
        "Formula - β^​0 ​+ β^​1 * GPA + β^​2 * IQ + β^​3 * Level + β^​4 * (GPA * IQ) + β^​5 * (GPA * Level)\n",
        "\n",
        "High School Salary - 50 + 20 * GPA + 0.07 * IQ + 0 * 35 + 0.01 * (GPA * IQ) + (−10) * (GPA * 0)\n",
        "= 50 + 20 * GPA + 0.07 * IQ + 0.01 * (GPA * IQ)\n",
        "\n",
        "College Salary - 50 + 20 * GPA + 0.07 * IQ + 1 * 35 + 0.01 * (GPA * IQ) + (−10) * (GPA * 1)\n",
        "= 50 + 20 * GPA + 0.07 * IQ + 35 + 0.01 * (GPA * IQ) − 10 * GPA\n",
        "= 85 + (20 - 10) * GPA + 0.07 * IQ + 0.01 * (GPA * IQ)\n",
        "= 85 + 10 * GPA + 0.07 * IQ + 0.01 * (GPA * IQ)\n",
        "\n",
        "Difference (college - hs): (85 + 10 * GPA + 0.07 * IQ + 0.01 * (GPA * IQ)) - (50 + 20 * GPA + 0.07 * IQ + 0.01 * (GPA * IQ))\n",
        "= 85 - 50 + (10 * GPA - 20 * GPA) + (0.07 * IQ - 0.07 * IQ) + (0.01 * (GPA * IQ) - 0.01 * (GPA * IQ))\n",
        "= 35 + (10GPA - 20GPA)\n",
        "= 35 - 10(GPA)\n",
        "\n",
        "Using 35 - 10(GPA), one can conclude that as GPA increases, the salary will decrease for a college student. Therefore, the answer is - iii. For a fixed value of IQ and GPA, high school graduates earn more, on average, than college graduates provided that the GPA is high enough."
      ]
    },
    {
      "cell_type": "markdown",
      "metadata": {
        "id": "qJVoXKoMRmBR"
      },
      "source": [
        "3b\n",
        "Y = 50 + 20 * 4.0 + 0.07 * 110 + 1 * 35 + 0.01 * (4.0 * 110) + (−10) * (4.0 * 1)\n",
        "= 50 + 20 * 4.0 + 0.07 * 110 + 1 * 35 + 0.01 * 440 - 10 * 4\n",
        "= 50 + 80 + 7.7 + 35 + 4.4 - 40\n",
        "= 137.1 (in thousands)"
      ]
    },
    {
      "cell_type": "markdown",
      "metadata": {
        "id": "VocG9jLQRmBR"
      },
      "source": [
        "3c\n",
        "It is FALSE that since the coefficient for the GPA/IQ interaction term is very small, that there is very little evidence of an interaction effect.\n",
        "\n",
        "It is false because the size of the coefficient doesn't determine the evidence of an interaction. The evidence of an interaction can be determined by statistical significance or p-value."
      ]
    },
    {
      "cell_type": "code",
      "source": [
        "from google.colab import files\n",
        "uploaded = files.upload()\n",
        "#upload College.csv and Auto.csv"
      ],
      "metadata": {
        "colab": {
          "base_uri": "https://localhost:8080/",
          "height": 107
        },
        "id": "VGEQwaqFR-BY",
        "outputId": "bc8e9ab1-79e9-4b17-f972-dd4ac4907380"
      },
      "execution_count": 8,
      "outputs": [
        {
          "output_type": "display_data",
          "data": {
            "text/plain": [
              "<IPython.core.display.HTML object>"
            ],
            "text/html": [
              "\n",
              "     <input type=\"file\" id=\"files-27801920-4a16-4eba-8dd2-10014d73379a\" name=\"files[]\" multiple disabled\n",
              "        style=\"border:none\" />\n",
              "     <output id=\"result-27801920-4a16-4eba-8dd2-10014d73379a\">\n",
              "      Upload widget is only available when the cell has been executed in the\n",
              "      current browser session. Please rerun this cell to enable.\n",
              "      </output>\n",
              "      <script>// Copyright 2017 Google LLC\n",
              "//\n",
              "// Licensed under the Apache License, Version 2.0 (the \"License\");\n",
              "// you may not use this file except in compliance with the License.\n",
              "// You may obtain a copy of the License at\n",
              "//\n",
              "//      http://www.apache.org/licenses/LICENSE-2.0\n",
              "//\n",
              "// Unless required by applicable law or agreed to in writing, software\n",
              "// distributed under the License is distributed on an \"AS IS\" BASIS,\n",
              "// WITHOUT WARRANTIES OR CONDITIONS OF ANY KIND, either express or implied.\n",
              "// See the License for the specific language governing permissions and\n",
              "// limitations under the License.\n",
              "\n",
              "/**\n",
              " * @fileoverview Helpers for google.colab Python module.\n",
              " */\n",
              "(function(scope) {\n",
              "function span(text, styleAttributes = {}) {\n",
              "  const element = document.createElement('span');\n",
              "  element.textContent = text;\n",
              "  for (const key of Object.keys(styleAttributes)) {\n",
              "    element.style[key] = styleAttributes[key];\n",
              "  }\n",
              "  return element;\n",
              "}\n",
              "\n",
              "// Max number of bytes which will be uploaded at a time.\n",
              "const MAX_PAYLOAD_SIZE = 100 * 1024;\n",
              "\n",
              "function _uploadFiles(inputId, outputId) {\n",
              "  const steps = uploadFilesStep(inputId, outputId);\n",
              "  const outputElement = document.getElementById(outputId);\n",
              "  // Cache steps on the outputElement to make it available for the next call\n",
              "  // to uploadFilesContinue from Python.\n",
              "  outputElement.steps = steps;\n",
              "\n",
              "  return _uploadFilesContinue(outputId);\n",
              "}\n",
              "\n",
              "// This is roughly an async generator (not supported in the browser yet),\n",
              "// where there are multiple asynchronous steps and the Python side is going\n",
              "// to poll for completion of each step.\n",
              "// This uses a Promise to block the python side on completion of each step,\n",
              "// then passes the result of the previous step as the input to the next step.\n",
              "function _uploadFilesContinue(outputId) {\n",
              "  const outputElement = document.getElementById(outputId);\n",
              "  const steps = outputElement.steps;\n",
              "\n",
              "  const next = steps.next(outputElement.lastPromiseValue);\n",
              "  return Promise.resolve(next.value.promise).then((value) => {\n",
              "    // Cache the last promise value to make it available to the next\n",
              "    // step of the generator.\n",
              "    outputElement.lastPromiseValue = value;\n",
              "    return next.value.response;\n",
              "  });\n",
              "}\n",
              "\n",
              "/**\n",
              " * Generator function which is called between each async step of the upload\n",
              " * process.\n",
              " * @param {string} inputId Element ID of the input file picker element.\n",
              " * @param {string} outputId Element ID of the output display.\n",
              " * @return {!Iterable<!Object>} Iterable of next steps.\n",
              " */\n",
              "function* uploadFilesStep(inputId, outputId) {\n",
              "  const inputElement = document.getElementById(inputId);\n",
              "  inputElement.disabled = false;\n",
              "\n",
              "  const outputElement = document.getElementById(outputId);\n",
              "  outputElement.innerHTML = '';\n",
              "\n",
              "  const pickedPromise = new Promise((resolve) => {\n",
              "    inputElement.addEventListener('change', (e) => {\n",
              "      resolve(e.target.files);\n",
              "    });\n",
              "  });\n",
              "\n",
              "  const cancel = document.createElement('button');\n",
              "  inputElement.parentElement.appendChild(cancel);\n",
              "  cancel.textContent = 'Cancel upload';\n",
              "  const cancelPromise = new Promise((resolve) => {\n",
              "    cancel.onclick = () => {\n",
              "      resolve(null);\n",
              "    };\n",
              "  });\n",
              "\n",
              "  // Wait for the user to pick the files.\n",
              "  const files = yield {\n",
              "    promise: Promise.race([pickedPromise, cancelPromise]),\n",
              "    response: {\n",
              "      action: 'starting',\n",
              "    }\n",
              "  };\n",
              "\n",
              "  cancel.remove();\n",
              "\n",
              "  // Disable the input element since further picks are not allowed.\n",
              "  inputElement.disabled = true;\n",
              "\n",
              "  if (!files) {\n",
              "    return {\n",
              "      response: {\n",
              "        action: 'complete',\n",
              "      }\n",
              "    };\n",
              "  }\n",
              "\n",
              "  for (const file of files) {\n",
              "    const li = document.createElement('li');\n",
              "    li.append(span(file.name, {fontWeight: 'bold'}));\n",
              "    li.append(span(\n",
              "        `(${file.type || 'n/a'}) - ${file.size} bytes, ` +\n",
              "        `last modified: ${\n",
              "            file.lastModifiedDate ? file.lastModifiedDate.toLocaleDateString() :\n",
              "                                    'n/a'} - `));\n",
              "    const percent = span('0% done');\n",
              "    li.appendChild(percent);\n",
              "\n",
              "    outputElement.appendChild(li);\n",
              "\n",
              "    const fileDataPromise = new Promise((resolve) => {\n",
              "      const reader = new FileReader();\n",
              "      reader.onload = (e) => {\n",
              "        resolve(e.target.result);\n",
              "      };\n",
              "      reader.readAsArrayBuffer(file);\n",
              "    });\n",
              "    // Wait for the data to be ready.\n",
              "    let fileData = yield {\n",
              "      promise: fileDataPromise,\n",
              "      response: {\n",
              "        action: 'continue',\n",
              "      }\n",
              "    };\n",
              "\n",
              "    // Use a chunked sending to avoid message size limits. See b/62115660.\n",
              "    let position = 0;\n",
              "    do {\n",
              "      const length = Math.min(fileData.byteLength - position, MAX_PAYLOAD_SIZE);\n",
              "      const chunk = new Uint8Array(fileData, position, length);\n",
              "      position += length;\n",
              "\n",
              "      const base64 = btoa(String.fromCharCode.apply(null, chunk));\n",
              "      yield {\n",
              "        response: {\n",
              "          action: 'append',\n",
              "          file: file.name,\n",
              "          data: base64,\n",
              "        },\n",
              "      };\n",
              "\n",
              "      let percentDone = fileData.byteLength === 0 ?\n",
              "          100 :\n",
              "          Math.round((position / fileData.byteLength) * 100);\n",
              "      percent.textContent = `${percentDone}% done`;\n",
              "\n",
              "    } while (position < fileData.byteLength);\n",
              "  }\n",
              "\n",
              "  // All done.\n",
              "  yield {\n",
              "    response: {\n",
              "      action: 'complete',\n",
              "    }\n",
              "  };\n",
              "}\n",
              "\n",
              "scope.google = scope.google || {};\n",
              "scope.google.colab = scope.google.colab || {};\n",
              "scope.google.colab._files = {\n",
              "  _uploadFiles,\n",
              "  _uploadFilesContinue,\n",
              "};\n",
              "})(self);\n",
              "</script> "
            ]
          },
          "metadata": {}
        },
        {
          "output_type": "stream",
          "name": "stdout",
          "text": [
            "Saving Auto.csv to Auto.csv\n",
            "Saving Carseats.csv to Carseats (3).csv\n"
          ]
        }
      ]
    },
    {
      "cell_type": "code",
      "execution_count": 9,
      "metadata": {
        "colab": {
          "base_uri": "https://localhost:8080/"
        },
        "id": "xF6xHdZjRmBR",
        "outputId": "00a88e82-3db2-4585-8186-04605607fbd1"
      },
      "outputs": [
        {
          "output_type": "stream",
          "name": "stdout",
          "text": [
            "                            OLS Regression Results                            \n",
            "==============================================================================\n",
            "Dep. Variable:                    mpg   R-squared:                       0.606\n",
            "Model:                            OLS   Adj. R-squared:                  0.605\n",
            "Method:                 Least Squares   F-statistic:                     599.7\n",
            "Date:                Wed, 25 Sep 2024   Prob (F-statistic):           7.03e-81\n",
            "Time:                        03:47:46   Log-Likelihood:                -1178.7\n",
            "No. Observations:                 392   AIC:                             2361.\n",
            "Df Residuals:                     390   BIC:                             2369.\n",
            "Df Model:                           1                                         \n",
            "Covariance Type:            nonrobust                                         \n",
            "==============================================================================\n",
            "                 coef    std err          t      P>|t|      [0.025      0.975]\n",
            "------------------------------------------------------------------------------\n",
            "const         39.9359      0.717     55.660      0.000      38.525      41.347\n",
            "horsepower    -0.1578      0.006    -24.489      0.000      -0.171      -0.145\n",
            "==============================================================================\n",
            "Omnibus:                       16.432   Durbin-Watson:                   0.920\n",
            "Prob(Omnibus):                  0.000   Jarque-Bera (JB):               17.305\n",
            "Skew:                           0.492   Prob(JB):                     0.000175\n",
            "Kurtosis:                       3.299   Cond. No.                         322.\n",
            "==============================================================================\n",
            "\n",
            "Notes:\n",
            "[1] Standard Errors assume that the covariance matrix of the errors is correctly specified.\n"
          ]
        }
      ],
      "source": [
        "#8a\n",
        "import pandas as pd\n",
        "import statsmodels.api as sm\n",
        "\n",
        "Auto = pd.read_csv('Auto.csv')\n",
        "\n",
        "Auto['horsepower'] = pd.to_numeric(Auto['horsepower'], errors='coerce')\n",
        "new_Auto = Auto.dropna(subset=['mpg', 'horsepower'])\n",
        "\n",
        "X = new_Auto['horsepower']\n",
        "y = new_Auto['mpg']\n",
        "\n",
        "X = sm.add_constant(X)\n",
        "\n",
        "model = sm.OLS(y, X)\n",
        "results = model.fit()\n",
        "\n",
        "print(results.summary())"
      ]
    },
    {
      "cell_type": "markdown",
      "metadata": {
        "id": "GrTJPR11RmBS"
      },
      "source": [
        "i. The p-value for the predictor, being horsepower, is 0. This is lower than the standard significance level of 0.05. This suggests there is a relationship between the predictor (horsepower) and the response (mpg).\n",
        "\n",
        "ii. The strength of the relationship between horsepower and mpg is 60.6%, which is  fairly strong relationship.\n",
        "\n",
        "iii.The relationship between horsepower and mpg is negative. The negative coefficient suggests that as horsepower starts to increase, mpg decreases."
      ]
    },
    {
      "cell_type": "code",
      "execution_count": 10,
      "metadata": {
        "colab": {
          "base_uri": "https://localhost:8080/"
        },
        "id": "eM9jkOrcRmBS",
        "outputId": "1791c9ed-6de3-405f-8977-c2570e888ead"
      },
      "outputs": [
        {
          "output_type": "stream",
          "name": "stdout",
          "text": [
            "        mean   mean_se  mean_ci_lower  mean_ci_upper  obs_ci_lower  \\\n",
            "0  24.467077  0.251262      23.973079      24.961075     14.809396   \n",
            "\n",
            "   obs_ci_upper  \n",
            "0     34.124758  \n"
          ]
        }
      ],
      "source": [
        "predicted_value = 98\n",
        "predictions = results.get_prediction(exog=[1, predicted_value])\n",
        "summary = predictions.summary_frame(alpha=0.05)\n",
        "\n",
        "print(summary)"
      ]
    },
    {
      "cell_type": "markdown",
      "metadata": {
        "id": "x6REFZSzRmBS"
      },
      "source": [
        "iv. The predicted mpg associated with a horsepower of 98 is 24.46 mpg, shown by the mean. The associated 95% confidence intervals are [23.97, 24.96] while the 95% prediction intervals are [14.81, 34.12]."
      ]
    },
    {
      "cell_type": "code",
      "execution_count": 11,
      "metadata": {
        "id": "zFHbjAfKRmBS"
      },
      "outputs": [],
      "source": [
        "#10 a-f\n",
        "import pandas as pd\n",
        "import statsmodels.api as sm\n",
        "Carseats = pd.read_csv('Carseats.csv')\n",
        "Carseats = pd.get_dummies(Carseats, columns=[\"Urban\", \"US\"], drop_first=True)\n",
        "\n",
        "clean_carseats = Carseats.dropna(subset=['Sales', 'Price', 'Urban_Yes', 'US_Yes'])\n",
        "clean_carseats['Urban_Yes'] = clean_carseats['Urban_Yes'].astype(int)\n",
        "clean_carseats['US_Yes'] = clean_carseats['US_Yes'].astype(int)"
      ]
    },
    {
      "cell_type": "code",
      "execution_count": 12,
      "metadata": {
        "colab": {
          "base_uri": "https://localhost:8080/"
        },
        "id": "Cdafvg9eRmBS",
        "outputId": "b25ec573-1ddd-464b-dbb3-42f2c5e84f46"
      },
      "outputs": [
        {
          "output_type": "stream",
          "name": "stdout",
          "text": [
            "                            OLS Regression Results                            \n",
            "==============================================================================\n",
            "Dep. Variable:                      y   R-squared:                       0.239\n",
            "Model:                            OLS   Adj. R-squared:                  0.234\n",
            "Method:                 Least Squares   F-statistic:                     41.52\n",
            "Date:                Wed, 25 Sep 2024   Prob (F-statistic):           2.39e-23\n",
            "Time:                        03:47:52   Log-Likelihood:                -927.66\n",
            "No. Observations:                 400   AIC:                             1863.\n",
            "Df Residuals:                     396   BIC:                             1879.\n",
            "Df Model:                           3                                         \n",
            "Covariance Type:            nonrobust                                         \n",
            "==============================================================================\n",
            "                 coef    std err          t      P>|t|      [0.025      0.975]\n",
            "------------------------------------------------------------------------------\n",
            "const         13.0435      0.651     20.036      0.000      11.764      14.323\n",
            "Price         -0.0545      0.005    -10.389      0.000      -0.065      -0.044\n",
            "Urban_Yes     -0.0219      0.272     -0.081      0.936      -0.556       0.512\n",
            "US_Yes         1.2006      0.259      4.635      0.000       0.691       1.710\n",
            "==============================================================================\n",
            "Omnibus:                        0.676   Durbin-Watson:                   1.912\n",
            "Prob(Omnibus):                  0.713   Jarque-Bera (JB):                0.758\n",
            "Skew:                           0.093   Prob(JB):                        0.684\n",
            "Kurtosis:                       2.897   Cond. No.                         628.\n",
            "==============================================================================\n",
            "\n",
            "Notes:\n",
            "[1] Standard Errors assume that the covariance matrix of the errors is correctly specified.\n"
          ]
        }
      ],
      "source": [
        "#10a\n",
        "y = clean_carseats['Sales']\n",
        "X = clean_carseats[['Price', 'Urban_Yes', 'US_Yes']]\n",
        "\n",
        "X = sm.add_constant(X)\n",
        "\n",
        "y = y.values\n",
        "\n",
        "model = sm.OLS(y, X)\n",
        "results = model.fit()\n",
        "\n",
        "print(results.summary())"
      ]
    },
    {
      "cell_type": "markdown",
      "metadata": {
        "id": "HT_g0MEgRmBT"
      },
      "source": [
        "10b\n",
        "The constant coefficient shows the predicted units sold (13.04) when price, us_yes, and urban_yes are 0.\n",
        "The price coefficient shows that each increase in price by 1, the predicted sales decreases by 0.0545.\n",
        "The urban_yes coefficient shows that urban areas sell 0.0219 less units than rural areas.\n",
        "The us_yes coefficient shows that US stores sell 1.20 more than stores outside the US."
      ]
    },
    {
      "cell_type": "markdown",
      "metadata": {
        "id": "USQdqyR4RmBT"
      },
      "source": [
        "10c\n",
        "Sales = 13.04 − 0.0545 * Price − 0.0219 * Urban_Yes + 1.2006 * US_Yes"
      ]
    },
    {
      "cell_type": "markdown",
      "metadata": {
        "id": "1i_JB7hrRmBT"
      },
      "source": [
        "10d\n",
        "We reject the null hypothesis ofr price, urban_yes, and us_yes, sisnce their p-values are all under 0.05."
      ]
    },
    {
      "cell_type": "code",
      "execution_count": 13,
      "metadata": {
        "colab": {
          "base_uri": "https://localhost:8080/"
        },
        "id": "t7ADZEpSRmBT",
        "outputId": "65e44f3d-3e32-45d4-f25a-420d3c4776f8"
      },
      "outputs": [
        {
          "output_type": "stream",
          "name": "stdout",
          "text": [
            "                            OLS Regression Results                            \n",
            "==============================================================================\n",
            "Dep. Variable:                      y   R-squared:                       0.239\n",
            "Model:                            OLS   Adj. R-squared:                  0.235\n",
            "Method:                 Least Squares   F-statistic:                     62.43\n",
            "Date:                Wed, 25 Sep 2024   Prob (F-statistic):           2.66e-24\n",
            "Time:                        03:47:54   Log-Likelihood:                -927.66\n",
            "No. Observations:                 400   AIC:                             1861.\n",
            "Df Residuals:                     397   BIC:                             1873.\n",
            "Df Model:                           2                                         \n",
            "Covariance Type:            nonrobust                                         \n",
            "==============================================================================\n",
            "                 coef    std err          t      P>|t|      [0.025      0.975]\n",
            "------------------------------------------------------------------------------\n",
            "const         13.0308      0.631     20.652      0.000      11.790      14.271\n",
            "Price         -0.0545      0.005    -10.416      0.000      -0.065      -0.044\n",
            "US_Yes         1.1996      0.258      4.641      0.000       0.692       1.708\n",
            "==============================================================================\n",
            "Omnibus:                        0.666   Durbin-Watson:                   1.912\n",
            "Prob(Omnibus):                  0.717   Jarque-Bera (JB):                0.749\n",
            "Skew:                           0.092   Prob(JB):                        0.688\n",
            "Kurtosis:                       2.895   Cond. No.                         607.\n",
            "==============================================================================\n",
            "\n",
            "Notes:\n",
            "[1] Standard Errors assume that the covariance matrix of the errors is correctly specified.\n"
          ]
        }
      ],
      "source": [
        "#10e\n",
        "X_smaller = clean_carseats[['Price', 'US_Yes']]\n",
        "X_smaller = sm.add_constant(X_smaller)\n",
        "\n",
        "model_smaller = sm.OLS(y, X_smaller)\n",
        "results_smaller = model_smaller.fit()\n",
        "\n",
        "print(results_smaller.summary())"
      ]
    },
    {
      "cell_type": "markdown",
      "metadata": {
        "id": "FTj9YSUrRmBT"
      },
      "source": [
        "10f\n",
        "R squared for each model is 0.239, which is a moderate fit. For adjusted R squared for each model, they're 0.234 and 0.235, which stills suggests a moderate fit."
      ]
    },
    {
      "cell_type": "code",
      "execution_count": 14,
      "metadata": {
        "id": "NJ_CCfORRmBT"
      },
      "outputs": [],
      "source": [
        "#14 a-g\n",
        "import numpy as np\n",
        "import pandas as pd\n",
        "import statsmodels.api as sm\n",
        "import matplotlib.pyplot as plt\n",
        "import seaborn as sns\n",
        "\n",
        "rng = np.random.default_rng(10)\n",
        "x1 = rng.uniform(0, 1, size=100)\n",
        "x2 = 0.5 * x1 + rng.normal(size=100)/ 10\n",
        "y = 2 + 2 * x1 + 0.3 * x2 + rng.normal(size=100)\n"
      ]
    },
    {
      "cell_type": "markdown",
      "metadata": {
        "id": "nWXnMEEqRmBT"
      },
      "source": [
        "14a\n",
        "The linear model is y = 2 + 2 * x1 + 0.3 * x2 + error.\n",
        "The regression coefficients are 2 for the constant, 2, for x1, and 0.3 for x2."
      ]
    },
    {
      "cell_type": "code",
      "execution_count": 15,
      "metadata": {
        "colab": {
          "base_uri": "https://localhost:8080/",
          "height": 448
        },
        "id": "gDPX7NBhRmBT",
        "outputId": "85069e33-02dd-4b2e-9bc8-16e18d284b35"
      },
      "outputs": [
        {
          "output_type": "display_data",
          "data": {
            "text/plain": [
              "<Figure size 600x400 with 1 Axes>"
            ],
            "image/png": "[encoded data removed]"
          },
          "metadata": {}
        },
        {
          "output_type": "execute_result",
          "data": {
            "text/plain": [
              "0.772324497691354"
            ]
          },
          "metadata": {},
          "execution_count": 15
        }
      ],
      "source": [
        "#14b\n",
        "correlation_x1_x2 = np.corrcoef(x1, x2)[0, 1]\n",
        "\n",
        "plt.figure(figsize=(6, 4))\n",
        "sns.scatterplot(x=x1, y=x2)\n",
        "plt.title(f'Scatterplot of x1 vs x2\\nCorrelation: {correlation_x1_x2:.2f}')\n",
        "plt.xlabel('x1')\n",
        "plt.ylabel('x2')\n",
        "plt.show()\n",
        "correlation_x1_x2\n",
        "# The correlation between x1 and x2 is 0.773."
      ]
    },
    {
      "cell_type": "code",
      "execution_count": 16,
      "metadata": {
        "id": "uXRYpVXTRmBT"
      },
      "outputs": [],
      "source": [
        "#14c\n",
        "X_full = sm.add_constant(np.column_stack((x1, x2)))\n",
        "model_full = sm.OLS(y, X_full).fit()"
      ]
    },
    {
      "cell_type": "code",
      "execution_count": 17,
      "metadata": {
        "id": "QNK15FlnRmBT"
      },
      "outputs": [],
      "source": [
        "#14d\n",
        "X_x1 = sm.add_constant(x1)\n",
        "model_x1 = sm.OLS(y, X_x1).fit()"
      ]
    },
    {
      "cell_type": "code",
      "execution_count": 18,
      "metadata": {
        "colab": {
          "base_uri": "https://localhost:8080/"
        },
        "id": "YLPJp9izRmBT",
        "outputId": "9ef6b34d-3bce-4b06-95cb-360d57ef5e5c"
      },
      "outputs": [
        {
          "output_type": "stream",
          "name": "stdout",
          "text": [
            "Correlation between x1 and x2: 0.77\n",
            "\n",
            "Full model (x1 and x2):\n",
            "                             OLS Regression Results                            \n",
            "==============================================================================\n",
            "Dep. Variable:                      y   R-squared:                       0.291\n",
            "Model:                            OLS   Adj. R-squared:                  0.276\n",
            "Method:                 Least Squares   F-statistic:                     19.89\n",
            "Date:                Wed, 25 Sep 2024   Prob (F-statistic):           5.76e-08\n",
            "Time:                        03:48:03   Log-Likelihood:                -130.62\n",
            "No. Observations:                 100   AIC:                             267.2\n",
            "Df Residuals:                      97   BIC:                             275.1\n",
            "Df Model:                           2                                         \n",
            "Covariance Type:            nonrobust                                         \n",
            "==============================================================================\n",
            "                 coef    std err          t      P>|t|      [0.025      0.975]\n",
            "------------------------------------------------------------------------------\n",
            "const          1.9579      0.190     10.319      0.000       1.581       2.334\n",
            "x1             1.6154      0.527      3.065      0.003       0.569       2.661\n",
            "x2             0.9428      0.831      1.134      0.259      -0.707       2.592\n",
            "==============================================================================\n",
            "Omnibus:                        0.051   Durbin-Watson:                   1.964\n",
            "Prob(Omnibus):                  0.975   Jarque-Bera (JB):                0.041\n",
            "Skew:                          -0.036   Prob(JB):                        0.979\n",
            "Kurtosis:                       2.931   Cond. No.                         11.9\n",
            "==============================================================================\n",
            "\n",
            "Notes:\n",
            "[1] Standard Errors assume that the covariance matrix of the errors is correctly specified.\n",
            "\n",
            "Model with only x1:\n",
            "                             OLS Regression Results                            \n",
            "==============================================================================\n",
            "Dep. Variable:                      y   R-squared:                       0.281\n",
            "Model:                            OLS   Adj. R-squared:                  0.274\n",
            "Method:                 Least Squares   F-statistic:                     38.39\n",
            "Date:                Wed, 25 Sep 2024   Prob (F-statistic):           1.37e-08\n",
            "Time:                        03:48:03   Log-Likelihood:                -131.28\n",
            "No. Observations:                 100   AIC:                             266.6\n",
            "Df Residuals:                      98   BIC:                             271.8\n",
            "Df Model:                           1                                         \n",
            "Covariance Type:            nonrobust                                         \n",
            "==============================================================================\n",
            "                 coef    std err          t      P>|t|      [0.025      0.975]\n",
            "------------------------------------------------------------------------------\n",
            "const          1.9371      0.189     10.242      0.000       1.562       2.312\n",
            "x1             2.0771      0.335      6.196      0.000       1.412       2.742\n",
            "==============================================================================\n",
            "Omnibus:                        0.204   Durbin-Watson:                   1.931\n",
            "Prob(Omnibus):                  0.903   Jarque-Bera (JB):                0.042\n",
            "Skew:                          -0.046   Prob(JB):                        0.979\n",
            "Kurtosis:                       3.038   Cond. No.                         4.65\n",
            "==============================================================================\n",
            "\n",
            "Notes:\n",
            "[1] Standard Errors assume that the covariance matrix of the errors is correctly specified.\n",
            "\n",
            "Model with only x2:\n",
            "                             OLS Regression Results                            \n",
            "==============================================================================\n",
            "Dep. Variable:                      y   R-squared:                       0.222\n",
            "Model:                            OLS   Adj. R-squared:                  0.214\n",
            "Method:                 Least Squares   F-statistic:                     27.99\n",
            "Date:                Wed, 25 Sep 2024   Prob (F-statistic):           7.43e-07\n",
            "Time:                        03:48:03   Log-Likelihood:                -135.24\n",
            "No. Observations:                 100   AIC:                             274.5\n",
            "Df Residuals:                      98   BIC:                             279.7\n",
            "Df Model:                           1                                         \n",
            "Covariance Type:            nonrobust                                         \n",
            "==============================================================================\n",
            "                 coef    std err          t      P>|t|      [0.025      0.975]\n",
            "------------------------------------------------------------------------------\n",
            "const          2.3239      0.154     15.124      0.000       2.019       2.629\n",
            "x1             2.9103      0.550      5.291      0.000       1.819       4.002\n",
            "==============================================================================\n",
            "Omnibus:                        0.191   Durbin-Watson:                   1.943\n",
            "Prob(Omnibus):                  0.909   Jarque-Bera (JB):                0.373\n",
            "Skew:                          -0.034   Prob(JB):                        0.830\n",
            "Kurtosis:                       2.709   Cond. No.                         6.11\n",
            "==============================================================================\n",
            "\n",
            "Notes:\n",
            "[1] Standard Errors assume that the covariance matrix of the errors is correctly specified.\n"
          ]
        }
      ],
      "source": [
        "#14e\n",
        "X_x2 = sm.add_constant(x2)\n",
        "model_x2 = sm.OLS(y, X_x2).fit()\n",
        "\n",
        "# Summarize results for models\n",
        "full_summary = model_full.summary()\n",
        "x1_summary = model_x1.summary()\n",
        "x2_summary = model_x2.summary()\n",
        "\n",
        "# Display results for the full model, x1-only model, and x2-only model\n",
        "print(f'Correlation between x1 and x2: {correlation_x1_x2:.2f}')\n",
        "print(\"\\nFull model (x1 and x2):\\n\", full_summary)\n",
        "print(\"\\nModel with only x1:\\n\", x1_summary)\n",
        "print(\"\\nModel with only x2:\\n\", x2_summary)"
      ]
    },
    {
      "cell_type": "markdown",
      "metadata": {
        "id": "w38413OgRmBT"
      },
      "source": [
        "14f\n",
        "Yes, they contradict each other because in (c) the null hypothesis is not rejected for x2, despite being significant in (e). When fitted seperately, they both seem to be significant, but fitted together shows that x2 is not significant."
      ]
    },
    {
      "cell_type": "code",
      "execution_count": 19,
      "metadata": {
        "colab": {
          "base_uri": "https://localhost:8080/"
        },
        "id": "ii2em3v4RmBT",
        "outputId": "e20f3665-44ee-46d9-d3f4-76edd14a6684"
      },
      "outputs": [
        {
          "output_type": "stream",
          "name": "stdout",
          "text": [
            "new x1 and x2:\n",
            "                             OLS Regression Results                            \n",
            "==============================================================================\n",
            "Dep. Variable:                      y   R-squared:                       0.292\n",
            "Model:                            OLS   Adj. R-squared:                  0.277\n",
            "Method:                 Least Squares   F-statistic:                     20.17\n",
            "Date:                Wed, 25 Sep 2024   Prob (F-statistic):           4.60e-08\n",
            "Time:                        03:48:07   Log-Likelihood:                -135.30\n",
            "No. Observations:                 101   AIC:                             276.6\n",
            "Df Residuals:                      98   BIC:                             284.5\n",
            "Df Model:                           2                                         \n",
            "Covariance Type:            nonrobust                                         \n",
            "==============================================================================\n",
            "                 coef    std err          t      P>|t|      [0.025      0.975]\n",
            "------------------------------------------------------------------------------\n",
            "const          2.0618      0.192     10.720      0.000       1.680       2.443\n",
            "x1             0.8575      0.466      1.838      0.069      -0.068       1.783\n",
            "x2             2.2663      0.705      3.216      0.002       0.868       3.665\n",
            "==============================================================================\n",
            "Omnibus:                        0.139   Durbin-Watson:                   1.894\n",
            "Prob(Omnibus):                  0.933   Jarque-Bera (JB):                0.320\n",
            "Skew:                           0.013   Prob(JB):                        0.852\n",
            "Kurtosis:                       2.725   Cond. No.                         9.68\n",
            "==============================================================================\n",
            "\n",
            "Notes:\n",
            "[1] Standard Errors assume that the covariance matrix of the errors is correctly specified.\n"
          ]
        }
      ],
      "source": [
        "#14g\n",
        "x1 = np.concatenate([x1, [0.1]])\n",
        "x2 = np.concatenate([x2, [0.8]])\n",
        "y = np.concatenate([y, [6]])\n",
        "\n",
        "# (c) refitted\n",
        "X_full_new = sm.add_constant(np.column_stack((x1, x2)))\n",
        "model_full_new = sm.OLS(y, X_full_new).fit()\n",
        "\n",
        "# (d) refitted\n",
        "X_x1_new = sm.add_constant(x1)\n",
        "model_x1_new = sm.OLS(y, X_x1_new).fit()\n",
        "\n",
        "# (e) refitteed\n",
        "X_x2_new = sm.add_constant(x2)\n",
        "model_x2_new = sm.OLS(y, X_x2_new).fit()\n",
        "\n",
        "full_new_summary = model_full_new.summary()\n",
        "x1_new_summary = model_x1_new.summary()\n",
        "x2_new_summary = model_x2_new.summary()\n",
        "\n",
        "print(\"new x1 and x2:\\n\", full_new_summary)"
      ]
    },
    {
      "cell_type": "code",
      "execution_count": 20,
      "metadata": {
        "colab": {
          "base_uri": "https://localhost:8080/"
        },
        "id": "gBDVaksjRmBU",
        "outputId": "12f41ed0-eaad-486a-9c7c-bd600d64064c"
      },
      "outputs": [
        {
          "output_type": "stream",
          "name": "stdout",
          "text": [
            "\\ new x1:\n",
            "                             OLS Regression Results                            \n",
            "==============================================================================\n",
            "Dep. Variable:                      y   R-squared:                       0.217\n",
            "Model:                            OLS   Adj. R-squared:                  0.209\n",
            "Method:                 Least Squares   F-statistic:                     27.42\n",
            "Date:                Wed, 25 Sep 2024   Prob (F-statistic):           9.23e-07\n",
            "Time:                        03:48:07   Log-Likelihood:                -140.37\n",
            "No. Observations:                 101   AIC:                             284.7\n",
            "Df Residuals:                      99   BIC:                             290.0\n",
            "Df Model:                           1                                         \n",
            "Covariance Type:            nonrobust                                         \n",
            "==============================================================================\n",
            "                 coef    std err          t      P>|t|      [0.025      0.975]\n",
            "------------------------------------------------------------------------------\n",
            "const          2.0739      0.201     10.310      0.000       1.675       2.473\n",
            "x1             1.8760      0.358      5.236      0.000       1.165       2.587\n",
            "==============================================================================\n",
            "Omnibus:                        8.232   Durbin-Watson:                   1.636\n",
            "Prob(Omnibus):                  0.016   Jarque-Bera (JB):               10.781\n",
            "Skew:                           0.396   Prob(JB):                      0.00456\n",
            "Kurtosis:                       4.391   Cond. No.                         4.61\n",
            "==============================================================================\n",
            "\n",
            "Notes:\n",
            "[1] Standard Errors assume that the covariance matrix of the errors is correctly specified.\n"
          ]
        }
      ],
      "source": [
        "print(\"\\ new x1:\\n\", x1_new_summary)"
      ]
    },
    {
      "cell_type": "code",
      "execution_count": 21,
      "metadata": {
        "colab": {
          "base_uri": "https://localhost:8080/"
        },
        "id": "NuR4SFlERmBU",
        "outputId": "8a811ea7-3c21-4c5b-c45b-bcfc7c7cb092"
      },
      "outputs": [
        {
          "output_type": "stream",
          "name": "stdout",
          "text": [
            "\\ new x2:\n",
            "                             OLS Regression Results                            \n",
            "==============================================================================\n",
            "Dep. Variable:                      y   R-squared:                       0.267\n",
            "Model:                            OLS   Adj. R-squared:                  0.260\n",
            "Method:                 Least Squares   F-statistic:                     36.10\n",
            "Date:                Wed, 25 Sep 2024   Prob (F-statistic):           3.13e-08\n",
            "Time:                        03:48:07   Log-Likelihood:                -137.01\n",
            "No. Observations:                 101   AIC:                             278.0\n",
            "Df Residuals:                      99   BIC:                             283.3\n",
            "Df Model:                           1                                         \n",
            "Covariance Type:            nonrobust                                         \n",
            "==============================================================================\n",
            "                 coef    std err          t      P>|t|      [0.025      0.975]\n",
            "------------------------------------------------------------------------------\n",
            "const          2.2840      0.151     15.088      0.000       1.984       2.584\n",
            "x1             3.1458      0.524      6.008      0.000       2.107       4.185\n",
            "==============================================================================\n",
            "Omnibus:                        0.495   Durbin-Watson:                   1.939\n",
            "Prob(Omnibus):                  0.781   Jarque-Bera (JB):                0.631\n",
            "Skew:                          -0.041   Prob(JB):                        0.729\n",
            "Kurtosis:                       2.621   Cond. No.                         5.84\n",
            "==============================================================================\n",
            "\n",
            "Notes:\n",
            "[1] Standard Errors assume that the covariance matrix of the errors is correctly specified.\n"
          ]
        }
      ],
      "source": [
        "print(\"\\ new x2:\\n\", x2_new_summary)"
      ]
    },
    {
      "cell_type": "markdown",
      "metadata": {
        "id": "imU54LX3RmBU"
      },
      "source": [
        "14g\n",
        "The new observations of x1 and x2 change the coefficients. x1 is close to a 0.05 p-value , while x2 has a p-value of 0.069. x1 has marginal significance and x2 has high significance.\n",
        "\n",
        "The new observations of x1 increases its coefficient. x1 now has a p-value of 0, which is close to a 0.05 p-value. x1 has high significance.\n",
        "\n",
        "The new observations of x2 increases its coefficient. x2 now has a p-value of 0, which is close to a 0.05 p-value. x2 has high significance."
      ]
    }
  ],
  "metadata": {
    "kernelspec": {
      "display_name": "Python 3",
      "language": "python",
      "name": "python3"
    },
    "language_info": {
      "codemirror_mode": {
        "name": "ipython",
        "version": 3
      },
      "file_extension": ".py",
      "mimetype": "text/x-python",
      "name": "python",
      "nbconvert_exporter": "python",
      "pygments_lexer": "ipython3",
      "version": "3.11.9"
    },
    "colab": {
      "provenance": [],
      "include_colab_link": true
    }
  },
  "nbformat": 4,
  "nbformat_minor": 0
}